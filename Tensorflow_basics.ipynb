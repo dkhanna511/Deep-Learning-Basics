{
 "cells": [
  {
   "cell_type": "markdown",
   "metadata": {},
   "source": [
    "# Hello World of Tensorflow"
   ]
  },
  {
   "cell_type": "markdown",
   "metadata": {},
   "source": [
    "### Import Bock"
   ]
  },
  {
   "cell_type": "code",
   "execution_count": 6,
   "metadata": {},
   "outputs": [],
   "source": [
    "import tensorflow as tf\n",
    "import numpy as np\n",
    "import matplotlib.pyplot as plt"
   ]
  },
  {
   "cell_type": "code",
   "execution_count": 7,
   "metadata": {},
   "outputs": [
    {
     "name": "stdout",
     "output_type": "stream",
     "text": [
      "1.12.0\n"
     ]
    }
   ],
   "source": [
    "print(tf.__version__)"
   ]
  },
  {
   "cell_type": "markdown",
   "metadata": {},
   "source": [
    "### Graph Definition\n",
    "\n",
    "In the present case, our graph consists of only one node, the\n",
    "tensor constant message consisting of byte string. "
   ]
  },
  {
   "cell_type": "code",
   "execution_count": 8,
   "metadata": {},
   "outputs": [],
   "source": [
    "message=tf.constant('Welcome to the exciting world of deep neural networks')\n",
    "hello=tf.constant('Hello')\n",
    "world=tf.constant('world')\n"
   ]
  },
  {
   "cell_type": "code",
   "execution_count": 10,
   "metadata": {},
   "outputs": [
    {
     "data": {
      "text/plain": [
       "tensorflow.python.framework.ops.Tensor"
      ]
     },
     "execution_count": 10,
     "metadata": {},
     "output_type": "execute_result"
    }
   ],
   "source": [
    "type(hello)"
   ]
  },
  {
   "cell_type": "code",
   "execution_count": 12,
   "metadata": {},
   "outputs": [
    {
     "name": "stdout",
     "output_type": "stream",
     "text": [
      "Tensor(\"Const_3:0\", shape=(), dtype=string)\n"
     ]
    }
   ],
   "source": [
    "\n",
    "# if we print the tensor \"hello\", it wont directky print the string. instead, it will print\n",
    "print(hello)"
   ]
  },
  {
   "cell_type": "code",
   "execution_count": null,
   "metadata": {},
   "outputs": [],
   "source": [
    "hello"
   ]
  },
  {
   "cell_type": "markdown",
   "metadata": {},
   "source": [
    "### running the computational graph"
   ]
  },
  {
   "cell_type": "code",
   "execution_count": 15,
   "metadata": {},
   "outputs": [
    {
     "name": "stdout",
     "output_type": "stream",
     "text": [
      "Welcome to the exciting world of deep neural networks\n"
     ]
    }
   ],
   "source": [
    "\n",
    "with tf.Session() as sess:\n",
    "    print(sess.run(message).decode()) #This says that the result is a byte string . To remove string quotes and b (for byte), we\n",
    "#use the method decode() .\n",
    "\n",
    "with tf.Session() as sess:\n",
    "    result=sess.run(hello+world)\n",
    "    "
   ]
  },
  {
   "cell_type": "code",
   "execution_count": 18,
   "metadata": {},
   "outputs": [
    {
     "name": "stdout",
     "output_type": "stream",
     "text": [
      "b'Helloworld'\n"
     ]
    }
   ],
   "source": [
    "print(result)\n",
    "\n",
    "#here, 'b' represents that it is represented as number of bits"
   ]
  },
  {
   "cell_type": "code",
   "execution_count": 19,
   "metadata": {},
   "outputs": [],
   "source": [
    "a=tf.constant(10)\n",
    "b=tf.constant(20)"
   ]
  },
  {
   "cell_type": "code",
   "execution_count": 20,
   "metadata": {},
   "outputs": [
    {
     "data": {
      "text/plain": [
       "tensorflow.python.framework.ops.Tensor"
      ]
     },
     "execution_count": 20,
     "metadata": {},
     "output_type": "execute_result"
    }
   ],
   "source": [
    "type(a)"
   ]
  },
  {
   "cell_type": "code",
   "execution_count": 22,
   "metadata": {},
   "outputs": [
    {
     "data": {
      "text/plain": [
       "<tf.Tensor 'add_3:0' shape=() dtype=int32>"
      ]
     },
     "execution_count": 22,
     "metadata": {},
     "output_type": "execute_result"
    }
   ],
   "source": [
    "a+b"
   ]
  },
  {
   "cell_type": "code",
   "execution_count": 23,
   "metadata": {},
   "outputs": [],
   "source": [
    "with tf.Session() as sess:\n",
    "    result=sess.run(a+b)"
   ]
  },
  {
   "cell_type": "code",
   "execution_count": 25,
   "metadata": {},
   "outputs": [
    {
     "data": {
      "text/plain": [
       "30"
      ]
     },
     "execution_count": 25,
     "metadata": {},
     "output_type": "execute_result"
    }
   ],
   "source": [
    "result"
   ]
  },
  {
   "cell_type": "markdown",
   "metadata": {},
   "source": [
    "## Working with matrices"
   ]
  },
  {
   "cell_type": "code",
   "execution_count": 26,
   "metadata": {},
   "outputs": [],
   "source": [
    "fill_mat=tf.fill((4,4), 10)"
   ]
  },
  {
   "cell_type": "code",
   "execution_count": 27,
   "metadata": {},
   "outputs": [],
   "source": [
    "myzeros=tf.zeros((4,4))\n"
   ]
  },
  {
   "cell_type": "code",
   "execution_count": 28,
   "metadata": {},
   "outputs": [],
   "source": [
    "myones=tf.ones((4,4))"
   ]
  },
  {
   "cell_type": "code",
   "execution_count": 32,
   "metadata": {},
   "outputs": [
    {
     "name": "stdout",
     "output_type": "stream",
     "text": [
      "\n",
      "printing a 4*4 matrix with the number 10\n",
      "\n",
      "[[10 10 10 10]\n",
      " [10 10 10 10]\n",
      " [10 10 10 10]\n",
      " [10 10 10 10]]\n",
      "\n",
      "print a 4*4 matrix with 0s\n",
      "\n",
      "[[0. 0. 0. 0.]\n",
      " [0. 0. 0. 0.]\n",
      " [0. 0. 0. 0.]\n",
      " [0. 0. 0. 0.]]\n",
      "\n",
      "printing a 4*$ matrix with 1s\n",
      "\n",
      "[[1. 1. 1. 1.]\n",
      " [1. 1. 1. 1.]\n",
      " [1. 1. 1. 1.]\n",
      " [1. 1. 1. 1.]]\n"
     ]
    }
   ],
   "source": [
    "with tf.Session() as sess:\n",
    "    print(\"\\nprinting a 4*4 matrix with the number 10\\n\")\n",
    "    print(sess.run(fill_mat))\n",
    "    print(\"\\nprint a 4*4 matrix with 0s\\n\")\n",
    "    print(sess.run(myzeros))\n",
    "    print(\"\\nprinting a 4*$ matrix with 1s\\n\")\n",
    "    print(sess.run(myones))"
   ]
  },
  {
   "cell_type": "markdown",
   "metadata": {},
   "source": [
    "## Adding two number\n",
    "\n"
   ]
  },
  {
   "cell_type": "markdown",
   "metadata": {},
   "source": [
    "### adding two vectors using tensorflow"
   ]
  },
  {
   "cell_type": "code",
   "execution_count": 7,
   "metadata": {},
   "outputs": [
    {
     "name": "stdout",
     "output_type": "stream",
     "text": [
      "[ 6  8 10 12]\n"
     ]
    }
   ],
   "source": [
    "\n",
    "\n",
    "v_1=tf.constant([1,2,3,4])      #vector 1\n",
    "v_2=tf.constant([5,6,7,8])      # vector 2\n",
    "v_add=tf.add(v_1, v_2)\n",
    "with tf.Session() as sess:\n",
    "    print(sess.run(v_add))\n",
    "    \n",
    "     \n"
   ]
  },
  {
   "cell_type": "markdown",
   "metadata": {},
   "source": [
    "### another way of doing it one line is:"
   ]
  },
  {
   "cell_type": "code",
   "execution_count": 9,
   "metadata": {},
   "outputs": [
    {
     "name": "stdout",
     "output_type": "stream",
     "text": [
      "[ 6  8 10 12]\n"
     ]
    }
   ],
   "source": [
    "print(tf.Session().run(tf.add(tf.constant([1,2,3,4]),tf.constant([5,6,7,8])\n",
    ")))\n",
    "\n",
    "#consider that the second method requires more memory than the first one and make the code more complicated to run\n"
   ]
  },
  {
   "cell_type": "markdown",
   "metadata": {},
   "source": [
    "### using interactive session\n",
    "\n",
    "\n",
    "InteractiveSession makes itself the\n",
    "default session so that you can directly call run the tensor Object using eval() without\n",
    "explicitly calling the session\n"
   ]
  },
  {
   "cell_type": "code",
   "execution_count": null,
   "metadata": {},
   "outputs": [],
   "source": [
    " \n",
    "\n",
    "sess=tf.InteractiveSession()\n",
    "v_1=tf.constant([1,2,3,4])      #vector 1\n",
    "v_2=tf.constant([5,6,7,8])      # vector 2\n",
    "v_add=tf.add(v_1, v_2)\n",
    "print(v_add.eval())\n",
    "sess.close()\n"
   ]
  },
  {
   "cell_type": "markdown",
   "metadata": {},
   "source": [
    "\n",
    "## INTRODUCTION TO PLACEHOLDERS\n",
    "\n",
    "placeholders, they are used to feed data to the graph. We can define a placeholder\n",
    "using the following:\n",
    "\n",
    "tf.placeholder(dtype, shape=None, name=None)'''\n"
   ]
  },
  {
   "cell_type": "code",
   "execution_count": 8,
   "metadata": {},
   "outputs": [],
   "source": [
    "#here, name is given so that we can see the required placeholders with that name in Tensorboard\n",
    "\n",
    "x=tf.placeholder(tf.float32, name='X')\n",
    "y=tf.placeholder(tf.float32, name='Y')"
   ]
  },
  {
   "cell_type": "markdown",
   "metadata": {},
   "source": [
    "## Working with constants, variables and placeholders"
   ]
  },
  {
   "cell_type": "markdown",
   "metadata": {},
   "source": [
    "### Working with constants"
   ]
  },
  {
   "cell_type": "code",
   "execution_count": 10,
   "metadata": {},
   "outputs": [],
   "source": [
    "t_1=tf.constant(4)          #declare a scalar constant\n",
    "t_2=tf.constant([4,2,3])    #declare a vector constant\n",
    "zero_t=tf.zeros([4,3], tf.int32)    #declare a matrix with zeros of size (4*3)\n",
    "ones_t=tf.ones([4,3], tf.int32)     #declare a matrix with ones of size (4*3)\n",
    "\n",
    "zero_t1=tf.zeros_like(t_2)        #giving dimension same as that of t_2\n",
    "ones_t2=tf.ones_like(t_2)         #giving dimension same as that of t_2\n",
    "    \n",
    "range_t = tf.linspace(2.0,5.0,5)  #creating a sequence of evenly spaced vectors \n",
    "\n",
    "range_t1=tf.range(10,100, 10)   #not including the end limit, we use the fucntion range"
   ]
  },
  {
   "cell_type": "markdown",
   "metadata": {},
   "source": [
    "### Working with random numbers"
   ]
  },
  {
   "cell_type": "code",
   "execution_count": 11,
   "metadata": {},
   "outputs": [],
   "source": [
    "\n",
    "#creating random tensors from normal distribution\n",
    "t_random=tf.random_normal([2,3], mean=2.0, stddev=4.0, seed=12)\n",
    "\n",
    "#creating random tensors from truncated normal distribution\n",
    "t_random1=tf.truncated_normal([2,3], stddev=2.0, seed=12)     #default mean=0.0\n",
    "\n",
    "\n",
    "#to randomly crop a given tensor\n",
    "t_random_crop=tf.random_crop(t_random,[2,2],seed=12) \n",
    "\n",
    "#to randomly shuffle a tensor\n",
    "t_random_shuffle=tf.random_shuffle(t_random,seed=12)\n"
   ]
  },
  {
   "cell_type": "markdown",
   "metadata": {},
   "source": [
    "### Working with Variables"
   ]
  },
  {
   "cell_type": "code",
   "execution_count": 12,
   "metadata": {},
   "outputs": [],
   "source": [
    "\n",
    "#T0 generate random variables\n",
    "#variable are often used to generate weights and biases in neural network\n",
    "rand_t=tf.random_uniform([50,50], 0, 10, seed=0)  #minval=0, maxval=10\n",
    "var_t1=tf.Variable(rand_t)\n",
    "var_t2=tf.Variable(rand_t)                          \n",
    "\n",
    "\n",
    "#each variable must be initialized explicitly\n",
    "initial_op=tf.global_variables_initializer()\n",
    "\n",
    "#code example to define weights and biases\n",
    "weights=tf.Variable(tf.random_normal([50,50], stddev=2))\n",
    "\n",
    " \n",
    "biases=tf.Variable(tf.zeros([100]))\n",
    "\n"
   ]
  },
  {
   "cell_type": "code",
   "execution_count": 14,
   "metadata": {},
   "outputs": [
    {
     "name": "stdout",
     "output_type": "stream",
     "text": [
      "[[1.0086262  9.701668   8.487642   ... 4.014183   4.2018986  6.0311484 ]\n",
      " [1.6479492  2.5117612  8.651404   ... 3.8982236  1.9020462  2.1089745 ]\n",
      " [0.5706465  5.807663   7.647709   ... 6.8128204  6.302782   2.469287  ]\n",
      " ...\n",
      " [4.303278   9.856594   8.3518715  ... 1.6166127  5.4081845  3.8831007 ]\n",
      " [7.8500056  0.83293796 3.787043   ... 7.4345884  9.469841   1.8955421 ]\n",
      " [2.594589   7.143749   3.7885928  ... 7.219738   2.5857759  9.880056  ]]\n"
     ]
    }
   ],
   "source": [
    "\n",
    "\n",
    "#initializaton of variables using Session\n",
    "weights2=tf.Variable(weights.initialized_value(), name= 'w2')\n",
    "\n",
    "with tf.Session() as sess:\n",
    "    print(sess.run(rand_t))\n",
    "    \n",
    "    \n",
    "#initialization during the running graph\n",
    "bias = tf.Variable(tf.zeros([100,100]))\n",
    "'''with tf.Session() as sess:\n",
    "    print(sess.run(bias.initializer))'''\n",
    "    \n",
    "    \n",
    "    \n",
    "# Saving the variable\n",
    "saver=tf.train.Saver()\n",
    "\n",
    "\n",
    "    \n"
   ]
  },
  {
   "cell_type": "markdown",
   "metadata": {},
   "source": [
    "### Working with placeolders\n",
    "\n",
    "Placeholders play an important role in tensorflow.\n",
    "The data is stored and is to be feeded using placeholders only"
   ]
  },
  {
   "cell_type": "code",
   "execution_count": 15,
   "metadata": {},
   "outputs": [
    {
     "name": "stdout",
     "output_type": "stream",
     "text": [
      "[[19.284464   3.917202  19.66701   14.605167   7.319645 ]\n",
      " [ 6.4177914 10.786342  16.904617  19.33998    8.84497  ]\n",
      " [17.68161    9.200086  17.179434  13.050073  15.260157 ]\n",
      " [19.219875   2.9081955 12.569159  17.6507     4.677763 ]]\n"
     ]
    }
   ],
   "source": [
    "\n",
    "x=tf.placeholder(\"float\")\n",
    "y=2*x\n",
    "data=tf.random_uniform([4,5], 10)   #10 is the max value , 0 = minvalue\n",
    "with tf.Session() as sess:\n",
    "    x_data=sess.run(data)\n",
    "    print(sess.run(y, feed_dict={x:x_data}))\n"
   ]
  }
 ],
 "metadata": {
  "kernelspec": {
   "display_name": "Python 3",
   "language": "python",
   "name": "python3"
  },
  "language_info": {
   "codemirror_mode": {
    "name": "ipython",
    "version": 3
   },
   "file_extension": ".py",
   "mimetype": "text/x-python",
   "name": "python",
   "nbconvert_exporter": "python",
   "pygments_lexer": "ipython3",
   "version": "3.5.2"
  }
 },
 "nbformat": 4,
 "nbformat_minor": 2
}
